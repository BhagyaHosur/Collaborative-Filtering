{
 "cells": [
  {
   "cell_type": "markdown",
   "metadata": {
    "id": "NIQORaDGkikk"
   },
   "source": [
    "## **Collaborative Filtering**"
   ]
  },
  {
   "cell_type": "code",
   "execution_count": 1,
   "metadata": {
    "id": "oAseAQgdUJvU"
   },
   "outputs": [],
   "source": [
    "#Required packages\n",
    "import numpy as np\n",
    "import pandas as pd\n",
    "import random\n",
    "import math\n",
    "from random import randrange\n",
    "from numpy.linalg import norm\n",
    "from math import sqrt\n",
    "from sklearn.metrics import mean_squared_error"
   ]
  },
  {
   "cell_type": "code",
   "execution_count": 2,
   "metadata": {
    "id": "HZ9y1snJgid8"
   },
   "outputs": [],
   "source": [
    "#Importing Data from Drive\n",
    "train_data = pd.read_csv('/content/training_dataset.csv', sep=',', error_bad_lines=False)\n",
    "test_data = pd.read_csv('/content/test_dataset.csv', sep=',', error_bad_lines=False)"
   ]
  },
  {
   "cell_type": "code",
   "execution_count": 3,
   "metadata": {
    "id": "0x6mUnTvH4KW"
   },
   "outputs": [],
   "source": [
    "#Creating a feature matrix for the data and obtaining the user mean value\n",
    "feature_matrix = train_data.pivot_table(index='user_id', columns='item_id', values='rating')\n",
    "user_mean = [0 for a in range(feature_matrix.shape[0])]"
   ]
  },
  {
   "cell_type": "code",
   "execution_count": 4,
   "metadata": {
    "id": "Uc1t8wRmhvkZ"
   },
   "outputs": [],
   "source": [
    "#Creating the cosine and adjusted cosine similarity matrix\n",
    "cosSimFMatrix = feature_matrix.copy().values \n",
    "adjCosSimFMatrix= feature_matrix.copy().values \n",
    "items = list(feature_matrix.columns) \n",
    "users = list(feature_matrix.index)"
   ]
  },
  {
   "cell_type": "code",
   "execution_count": 5,
   "metadata": {
    "id": "cxjy0khjJH-V"
   },
   "outputs": [],
   "source": [
    "#Calculating the user mean values for the data\n",
    "for i in range(0, feature_matrix.shape[0]):\n",
    "  item = 0\n",
    "  c = 0 \n",
    "  for j in range(len(items)): \n",
    "      if not math.isnan(cosSimFMatrix[i][j]): \n",
    "          item = item + cosSimFMatrix[i][j]\n",
    "          c += 1 \n",
    "  if c !=0:\n",
    "    user_mean[i] = item / c"
   ]
  },
  {
   "cell_type": "code",
   "execution_count": 6,
   "metadata": {
    "id": "DE0KtgXNIjbI"
   },
   "outputs": [],
   "source": [
    "#Calculating Similarity and Adjusted similarity matrices  \n",
    "for i in range(0, feature_matrix.shape[0]): \n",
    "    for j in range(len(items)): \n",
    "      if not math.isnan(cosSimFMatrix[i][j]): \n",
    "        cosSimFMatrix[i][j]=cosSimFMatrix[i][j] \n",
    "        adjCosSimFMatrix[i][j]=adjCosSimFMatrix[i][j]- user_mean[i] \n",
    "      else: \n",
    "        cosSimFMatrix[i][j]=0 \n",
    "        adjCosSimFMatrix[i][j]=0 "
   ]
  },
  {
   "cell_type": "code",
   "execution_count": 7,
   "metadata": {
    "id": "ch9jph0xJ6KR"
   },
   "outputs": [],
   "source": [
    "#Get similar movies\n",
    "def simMov(feature_matrix, i, j):\n",
    "  return (np.dot(feature_matrix[:,i],feature_matrix[:,j])/(norm(feature_matrix[:,i])*norm(feature_matrix[:,j]))) "
   ]
  },
  {
   "cell_type": "code",
   "execution_count": 8,
   "metadata": {
    "id": "YdvdkWpbKHmT"
   },
   "outputs": [],
   "source": [
    "#Considering movies that are at least 50% similar\n",
    "def similarMovies(feature_matrix,items,user_id,item_id):\n",
    "  val=0.05 \n",
    "  sim_movies = []\n",
    "  for i in range(len(items)):\n",
    "    if i!=item_id and feature_matrix[user_id][i] !=0: \n",
    "      sim_movies.append((simMov(feature_matrix,item_id,i),i)) \n",
    "  sim_movies.sort(reverse=True) \n",
    "  res=[]\n",
    "  for j in sim_movies:\n",
    "    if j[0]>=val:\n",
    "      res.append(j)\n",
    "    else: \n",
    "      continue \n",
    "  return res[:20] "
   ]
  },
  {
   "cell_type": "code",
   "execution_count": 9,
   "metadata": {
    "id": "LRdqkgCKKwKm"
   },
   "outputs": [],
   "source": [
    "# Obtaining Cosine Similarity\n",
    "def cosineSimilarity(feature_matrix,items,user_mean, user, item):\n",
    "  use_index = users.index(user) \n",
    "  if item in items:\n",
    "    item_index = items.index(item) \n",
    "    topsim = similarMovies(feature_matrix, items, use_index, item_index) \n",
    "    a = 0  \n",
    "    b = 0\n",
    "    for i in topsim:\n",
    "      a += i[0] * feature_matrix[use_index][i[1]] \n",
    "      b += i[0] \n",
    "    rates = a / b \n",
    "    rates = rates \n",
    "  else:\n",
    "    rates = user_mean[use_index] \n",
    "  return rates"
   ]
  },
  {
   "cell_type": "code",
   "execution_count": 10,
   "metadata": {
    "id": "vZ997LghMNrM"
   },
   "outputs": [],
   "source": [
    "# Obtaining Adjusted Cosine Similarity\n",
    "def adjustedCosineSimilarity(feature_matrix,items,user_mean, user, item):\n",
    "  use_index = users.index(user) \n",
    "  if item in items:\n",
    "    item_index = items.index(item) \n",
    "    topsim = similarMovies(feature_matrix, items, use_index, item_index) \n",
    "    a = 0\n",
    "    b = 0 \n",
    "    for i in topsim:\n",
    "      a += i[0] * feature_matrix[use_index][i[1]] \n",
    "      b += i[0] \n",
    "    rates = a / b \n",
    "    rates = rates + user_mean[use_index] \n",
    "  else:\n",
    "    rates = user_mean[use_index] \n",
    "  return rates"
   ]
  },
  {
   "cell_type": "code",
   "execution_count": 11,
   "metadata": {
    "id": "b8R738lqMoh6"
   },
   "outputs": [],
   "source": [
    "#Test Data Values\n",
    "test_ratings = test_data[\"rating\"].values\n",
    "users_id = test_data[\"user_id\"] \n",
    "items_id = test_data[\"item_id\"] "
   ]
  },
  {
   "cell_type": "code",
   "execution_count": 12,
   "metadata": {
    "id": "zUo022GiMtPp"
   },
   "outputs": [],
   "source": [
    "#Obtaining cosine similarity\n",
    "cosineSimilarity_pred = [] \n",
    "for i in range(len(users_id)): \n",
    "  cosineSimilarity_pred.append(cosineSimilarity(cosSimFMatrix,items,user_mean,users_id[i], items_id[i])) "
   ]
  },
  {
   "cell_type": "code",
   "execution_count": 13,
   "metadata": {
    "id": "QiMFujb3M8Vr"
   },
   "outputs": [],
   "source": [
    "#Obtaining adjusted cosine similarity\n",
    "adjustedCosineSimilarity_pred = [] \n",
    "for i in range(len(users_id)): \n",
    "  adjustedCosineSimilarity_pred.append(adjustedCosineSimilarity(adjCosSimFMatrix,items,user_mean,users_id[i], items_id[i])) "
   ]
  },
  {
   "cell_type": "code",
   "execution_count": 14,
   "metadata": {
    "id": "S93_YUXDNona"
   },
   "outputs": [],
   "source": [
    "#RMSE Calculation function obtained from project description\n",
    "def RMSE(y_actual, y_predicted): \n",
    "  rms = sqrt(mean_squared_error(y_actual, y_predicted)) \n",
    "  return round(rms,4)"
   ]
  },
  {
   "cell_type": "code",
   "execution_count": 15,
   "metadata": {
    "colab": {
     "base_uri": "https://localhost:8080/"
    },
    "id": "kbrsj4uRNrx1",
    "outputId": "17329bed-7273-45ab-d19b-5f8f1c3091b3"
   },
   "outputs": [
    {
     "name": "stdout",
     "output_type": "stream",
     "text": [
      "RMSE obtained for Cosine Similarity: 0.9393\n"
     ]
    }
   ],
   "source": [
    "rMSECosSim = RMSE(test_ratings, cosineSimilarity_pred)\n",
    "print(\"RMSE obtained for Cosine Similarity:\",rMSECosSim)"
   ]
  },
  {
   "cell_type": "code",
   "execution_count": 16,
   "metadata": {
    "colab": {
     "base_uri": "https://localhost:8080/"
    },
    "id": "UGbOs6P9N1vm",
    "outputId": "9a5fc20d-9772-48a0-a56e-0bf86386f9de"
   },
   "outputs": [
    {
     "name": "stdout",
     "output_type": "stream",
     "text": [
      "RMSE obtained for Adjusted Cosine Similarity  0.8829\n"
     ]
    }
   ],
   "source": [
    "rMSEAdjCosSim = RMSE(test_ratings, adjustedCosineSimilarity_pred)\n",
    "print(\"RMSE obtained for Adjusted Cosine Similarity \",rMSEAdjCosSim)"
   ]
  }
 ],
 "metadata": {
  "colab": {
   "collapsed_sections": [],
   "name": "Project_4_CollaborativeFiltering.ipynb",
   "provenance": []
  },
  "kernelspec": {
   "display_name": "Python 3",
   "language": "python",
   "name": "python3"
  },
  "language_info": {
   "codemirror_mode": {
    "name": "ipython",
    "version": 3
   },
   "file_extension": ".py",
   "mimetype": "text/x-python",
   "name": "python",
   "nbconvert_exporter": "python",
   "pygments_lexer": "ipython3",
   "version": "3.7.3"
  }
 },
 "nbformat": 4,
 "nbformat_minor": 1
}
