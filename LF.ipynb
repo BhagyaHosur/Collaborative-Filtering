{
 "cells": [
  {
   "cell_type": "markdown",
   "metadata": {
    "id": "DA9TilvtbZ1J"
   },
   "source": [
    "### **Latent Factor Model**"
   ]
  },
  {
   "cell_type": "code",
   "execution_count": 41,
   "metadata": {
    "id": "uDP9vCvabLAR"
   },
   "outputs": [],
   "source": [
    "# Importing Packages\n",
    "import pandas as pd\n",
    "import numpy as np\n",
    "import matplotlib.pyplot as plt\n",
    "from scipy.sparse import coo_matrix\n",
    "from numpy.linalg import norm\n",
    "import math"
   ]
  },
  {
   "cell_type": "code",
   "execution_count": 3,
   "metadata": {
    "id": "JaSWAlKxbLAc"
   },
   "outputs": [],
   "source": [
    "# Reading the training dataset\n",
    "Training_movies = pd.read_csv('/content/training_dataset.csv', sep=',', error_bad_lines=False)"
   ]
  },
  {
   "cell_type": "code",
   "execution_count": 4,
   "metadata": {
    "id": "uV5c130XbLAk"
   },
   "outputs": [],
   "source": [
    "# calculate mean rating\n",
    "mean_rating = pd.DataFrame(Training_movies.groupby('item_id')['rating'].mean())"
   ]
  },
  {
   "cell_type": "code",
   "execution_count": 5,
   "metadata": {
    "id": "QU7hbc0pbLAq"
   },
   "outputs": [],
   "source": [
    "mean_rating['ratingCount'] = pd.DataFrame(Training_movies.groupby('item_id')['rating'].count())"
   ]
  },
  {
   "cell_type": "code",
   "execution_count": null,
   "metadata": {
    "id": "w4gyuUidbLAx"
   },
   "outputs": [],
   "source": [
    "# take the pivot of the data read for further use\n",
    "ratings_p = Training_movies.pivot(index='user_id', columns='item_id', values=\"rating\").fillna(0)\n"
   ]
  },
  {
   "cell_type": "code",
   "execution_count": 24,
   "metadata": {
    "id": "5JHy8zRfbLA7"
   },
   "outputs": [],
   "source": [
    "# Create Data matrix \n",
    "data = coo_matrix(ratings_p.values)\n"
   ]
  },
  {
   "cell_type": "code",
   "execution_count": 45,
   "metadata": {
    "id": "BgTNT0dZbLBB"
   },
   "outputs": [],
   "source": [
    "\n",
    "M,N=data.shape #  Factor matrix shape - dimensions for P and Q\n",
    "\n",
    "K=25  #global variable for no of factors\n",
    "K=math.ceil(np.sqrt(5/K))\n",
    "# Initialize - using random values of P and Q \n",
    "P=np.random.rand(M,K)\n",
    "Q=np.random.rand(K,N)"
   ]
  },
  {
   "cell_type": "code",
   "execution_count": 46,
   "metadata": {
    "id": "eTA_FO6ObLBF"
   },
   "outputs": [],
   "source": [
    "#Computing Mean Squared Error\n",
    "def error(data,P,Q,lamda):\n",
    "    ratings = data.data\n",
    "    rows = data.row\n",
    "    cols = data.col\n",
    "    error = 0 \n",
    "    for ui in range(len(ratings)):\n",
    "        ri=ratings[ui]\n",
    "        u = rows[ui]\n",
    "        i = cols[ui]\n",
    "        if ri>0:\n",
    "            error= error + pow(ri-np.dot(P[u,:],Q[:,i]),2)+\\\n",
    "                lamda*(pow(norm(P[u,:]),2)+pow(norm(Q[:,i]),2))\n",
    "    all_errors.append(error)\n",
    "    return error"
   ]
  },
  {
   "cell_type": "code",
   "execution_count": 47,
   "metadata": {
    "id": "SnmjOF6xbLBJ"
   },
   "outputs": [],
   "source": [
    "# Implement Stochastic Gradient Descent \n",
    "def SGD(R, K, lamda,steps, gamma):\n",
    "    \n",
    "    M,N = R.shape\n",
    "    P = np.random.rand(M,K)\n",
    "    Q = np.random.rand(K,N)\n",
    "    \n",
    "    for step in range(steps):\n",
    "        for ui in range(len(R.data)):\n",
    "            ri=R.data[ui]\n",
    "            #print(rui)\n",
    "            u = R.row[ui]\n",
    "            #print(u)\n",
    "            i = R.col[ui]\n",
    "            #print(i)\n",
    "            if ri>0:\n",
    "              # calculate the partial derivative and optimize the P and Q values for the dataset\n",
    "                ei=ri-np.dot(P[u,:],Q[:,i])\n",
    "                P[u,:]=P[u,:]+gamma*(ei*Q[:,i]-lamda*P[u,:])\n",
    "                Q[:,i]=Q[:,i]+gamma*(ei*P[u,:]-lamda*Q[:,i])\n",
    "        error(R,P,Q,lamda)\n",
    "\n",
    "    return P,Q"
   ]
  },
  {
   "cell_type": "code",
   "execution_count": 48,
   "metadata": {
    "id": "jCYt_CG2bLBO"
   },
   "outputs": [],
   "source": [
    "all_errors = [] # variable to store errors to plot the graph for objective function E \n",
    "P,Q=SGD(data,K=25,lamda=0.1, steps=40, gamma=0.01) # call SGD method to implement Stochastic Gradient Descent for P,Q "
   ]
  },
  {
   "cell_type": "code",
   "execution_count": 49,
   "metadata": {
    "colab": {
     "base_uri": "https://localhost:8080/",
     "height": 351
    },
    "id": "bRsAoJ8dbLBW",
    "outputId": "27d18532-31eb-49c5-ea2e-136388d0d52f"
   },
   "outputs": [
    {
     "data": {
      "text/plain": [
       "<matplotlib.legend.Legend at 0x7faf66bd32e8>"
      ]
     },
     "execution_count": 49,
     "metadata": {
      "tags": []
     },
     "output_type": "execute_result"
    },
    {
     "data": {
      "image/png": "[encoded data removed]",
      "text/plain": [
       "<Figure size 1440x360 with 1 Axes>"
      ]
     },
     "metadata": {
      "needs_background": "light",
      "tags": []
     },
     "output_type": "display_data"
    }
   ],
   "source": [
    "# Plot the value of the objective function E \n",
    "plt.rcParams[\"figure.figsize\"]=20,5\n",
    "plt.plot(all_errors,'r',marker='o',label='Objective Function')\n",
    "plt.xlabel(\"Iterations\")\n",
    "plt.ylabel(\"Objective Values\")\n",
    "plt.legend(loc='best')"
   ]
  },
  {
   "cell_type": "code",
   "execution_count": 50,
   "metadata": {
    "id": "IU8NwSwxbLBa"
   },
   "outputs": [],
   "source": [
    "Total_user_ratings =np.matmul(P, Q)"
   ]
  },
  {
   "cell_type": "code",
   "execution_count": 51,
   "metadata": {
    "id": "1PUvV63qbLBd"
   },
   "outputs": [],
   "source": [
    "# Reading the test dataset\n",
    "test_movies = pd.read_csv('test_dataset.csv', sep=',', error_bad_lines=False)"
   ]
  },
  {
   "cell_type": "code",
   "execution_count": 52,
   "metadata": {
    "id": "XmJXCac-bLBt"
   },
   "outputs": [],
   "source": [
    "predicted_val = []\n",
    "# Predicting the rating for test dataset from the training dataset\n",
    "for m in range(test_movies['user_id'].count()):\n",
    "    i = test_movies['user_id'][m]\n",
    "    j = test_movies['item_id'][m]\n",
    "    #print(i)\n",
    "    #print(j)\n",
    "    val = Total_user_ratings[i-1][j-1]\n",
    "    predicted_val.append(val)\n",
    "    #print(val)    "
   ]
  },
  {
   "cell_type": "code",
   "execution_count": 53,
   "metadata": {
    "id": "1ICEn0uibLBw"
   },
   "outputs": [],
   "source": [
    "Actual_val = test_movies['rating']"
   ]
  },
  {
   "cell_type": "code",
   "execution_count": 54,
   "metadata": {
    "id": "3PS31j-ubLBz"
   },
   "outputs": [],
   "source": [
    "# Method for Model Evaluation by calculating RMSE -  code snippet given by the professor\n",
    "from sklearn.metrics import mean_squared_error\n",
    "from math import sqrt\n",
    "def RMSE(y_actual, y_predicted):\n",
    "    rms = sqrt(mean_squared_error(y_actual, y_predicted))\n",
    "    return round(rms,4)"
   ]
  },
  {
   "cell_type": "code",
   "execution_count": 56,
   "metadata": {
    "colab": {
     "base_uri": "https://localhost:8080/"
    },
    "id": "pOX8eV4Fq9Sj",
    "outputId": "0c591e7c-ae71-4e7e-d3d4-0be883a07483"
   },
   "outputs": [
    {
     "name": "stdout",
     "output_type": "stream",
     "text": [
      "0.9737\n"
     ]
    }
   ],
   "source": [
    "# Compare ‘actual_rating’ and ‘predicted_rating’ with Root Mean Squared Error (RMSE). \n",
    "RMSE_Val = RMSE(Actual_val,predicted_val)\n",
    "print(RMSE_Val)"
   ]
  }
 ],
 "metadata": {
  "colab": {
   "collapsed_sections": [],
   "name": "Project4_LFM.ipynb",
   "provenance": []
  },
  "kernelspec": {
   "display_name": "Python 3",
   "language": "python",
   "name": "python3"
  },
  "language_info": {
   "codemirror_mode": {
    "name": "ipython",
    "version": 3
   },
   "file_extension": ".py",
   "mimetype": "text/x-python",
   "name": "python",
   "nbconvert_exporter": "python",
   "pygments_lexer": "ipython3",
   "version": "3.7.3"
  }
 },
 "nbformat": 4,
 "nbformat_minor": 1
}
